{
 "cells": [
  {
   "cell_type": "markdown",
   "id": "78b102b4",
   "metadata": {},
   "source": [
    "# Basic SQL commands"
   ]
  },
  {
   "cell_type": "code",
   "execution_count": null,
   "id": "1eaa55c0",
   "metadata": {},
   "outputs": [],
   "source": [
    "x = 4 + 2"
   ]
  }
 ],
 "metadata": {
  "language_info": {
   "name": "python"
  }
 },
 "nbformat": 4,
 "nbformat_minor": 5
}
